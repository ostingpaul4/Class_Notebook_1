{
 "cells": [
  {
   "cell_type": "markdown",
   "id": "73943399",
   "metadata": {},
   "source": [
    "# 6. Working with Dictionaries\n",
    "* A dictionary in Python is a collection of key-value pairs. \n",
    "* Each key is connected to a value, and you can use a key to access the value associated with that key.\n",
    "* A key’s value can be a number, a string, a list, or even another dictionary.\n",
    "\n",
    "* `Key` is the unique identifier to find data and the `value` is the data\n",
    "\n",
    "* A dictionary is a collection which is ordered*, changeable and does not allow duplicates.\n",
    "\n",
    "* Unlike strings, lists, and tuples, **dictionaries are not sequences** - the data are not stored in order. \n",
    "* List can be represented by [ ], Tuple can be represented by ( ), Dictionary  can be represented by { }"
   ]
  },
  {
   "cell_type": "code",
   "execution_count": 1,
   "id": "05999d3a",
   "metadata": {},
   "outputs": [
    {
     "data": {
      "text/plain": [
       "dict"
      ]
     },
     "execution_count": 1,
     "metadata": {},
     "output_type": "execute_result"
    }
   ],
   "source": [
    "data={} #empty dictionary\n",
    "type(data)"
   ]
  },
  {
   "cell_type": "code",
   "execution_count": 4,
   "id": "88e3e9ba",
   "metadata": {},
   "outputs": [
    {
     "data": {
      "text/plain": [
       "dict"
      ]
     },
     "execution_count": 4,
     "metadata": {},
     "output_type": "execute_result"
    }
   ],
   "source": [
    "data1=dict() #empty dictionary method 2\n",
    "type(data1)"
   ]
  },
  {
   "cell_type": "code",
   "execution_count": 7,
   "id": "5d25b2cb",
   "metadata": {},
   "outputs": [
    {
     "name": "stdout",
     "output_type": "stream",
     "text": [
      "{'Alabama': 'Montgomery', 'Arizona': 'Pheonix', 'Georgia': 'Atlanta', 'Kentucky': 'Frankfort', 'Ohio': 'Salem'}\n"
     ]
    },
    {
     "data": {
      "text/plain": [
       "dict"
      ]
     },
     "execution_count": 7,
     "metadata": {},
     "output_type": "execute_result"
    }
   ],
   "source": [
    "data={'Alabama':'Montgomery',\n",
    "      'Arizona':'Pheonix',\n",
    "      'Georgia':'Atlanta',\n",
    "      'Kentucky':'Frankfort',\n",
    "      'Ohio':'Salem'} #Key:Value\n",
    "print(data)\n",
    "type(data)"
   ]
  },
  {
   "cell_type": "code",
   "execution_count": 10,
   "id": "f8a100a6",
   "metadata": {},
   "outputs": [
    {
     "data": {
      "text/plain": [
       "'Frankfort'"
      ]
     },
     "execution_count": 10,
     "metadata": {},
     "output_type": "execute_result"
    }
   ],
   "source": [
    "data['Kentucky'] #Access the value by calling the key"
   ]
  },
  {
   "cell_type": "code",
   "execution_count": 11,
   "id": "98872191",
   "metadata": {},
   "outputs": [
    {
     "data": {
      "text/plain": [
       "'Montgomery'"
      ]
     },
     "execution_count": 11,
     "metadata": {},
     "output_type": "execute_result"
    }
   ],
   "source": [
    "data['Alabama'] #Has to be a unique key, can repeat values"
   ]
  },
  {
   "cell_type": "markdown",
   "id": "4be8c616",
   "metadata": {},
   "source": [
    "### Access `values` from a dictionary using key\n",
    "* Key and values can be any data types\n",
    "* Accessing key value not present in dictionary generated KeyError"
   ]
  },
  {
   "cell_type": "code",
   "execution_count": 24,
   "id": "aab3f949",
   "metadata": {},
   "outputs": [],
   "source": [
    "day={1:'Monday',\n",
    "    2:'Tuesday',\n",
    "    4:['Thursday','Friday'],\n",
    "    5:('Saturday','Sunday')}"
   ]
  },
  {
   "cell_type": "code",
   "execution_count": 25,
   "id": "fe9e3886",
   "metadata": {},
   "outputs": [
    {
     "data": {
      "text/plain": [
       "'Monday'"
      ]
     },
     "execution_count": 25,
     "metadata": {},
     "output_type": "execute_result"
    }
   ],
   "source": [
    "#Access Monday\n",
    "day[1]"
   ]
  },
  {
   "cell_type": "code",
   "execution_count": 26,
   "id": "e4eb565d",
   "metadata": {},
   "outputs": [
    {
     "data": {
      "text/plain": [
       "'Friday'"
      ]
     },
     "execution_count": 26,
     "metadata": {},
     "output_type": "execute_result"
    }
   ],
   "source": [
    "#Access Friday\n",
    "day[4][1] #[Key][index]"
   ]
  },
  {
   "cell_type": "code",
   "execution_count": 27,
   "id": "c7dae653",
   "metadata": {},
   "outputs": [
    {
     "data": {
      "text/plain": [
       "'Saturday'"
      ]
     },
     "execution_count": 27,
     "metadata": {},
     "output_type": "execute_result"
    }
   ],
   "source": [
    "#Access Saturday\n",
    "day[5][0]"
   ]
  },
  {
   "cell_type": "markdown",
   "id": "bc6af6fc",
   "metadata": {},
   "source": [
    "### Update elements of a dictionary and add new elements"
   ]
  },
  {
   "cell_type": "code",
   "execution_count": 28,
   "id": "f62f227f",
   "metadata": {},
   "outputs": [
    {
     "ename": "TypeError",
     "evalue": "'tuple' object does not support item assignment",
     "output_type": "error",
     "traceback": [
      "\u001b[1;31m---------------------------------------------------------------------------\u001b[0m",
      "\u001b[1;31mTypeError\u001b[0m                                 Traceback (most recent call last)",
      "\u001b[1;32m~\\AppData\\Local\\Temp\\ipykernel_26456\\2823442661.py\u001b[0m in \u001b[0;36m<module>\u001b[1;34m\u001b[0m\n\u001b[0;32m      1\u001b[0m \u001b[1;31m#update Sunday to Holiday\u001b[0m\u001b[1;33m\u001b[0m\u001b[1;33m\u001b[0m\u001b[0m\n\u001b[1;32m----> 2\u001b[1;33m \u001b[0mday\u001b[0m\u001b[1;33m[\u001b[0m\u001b[1;36m5\u001b[0m\u001b[1;33m]\u001b[0m\u001b[1;33m[\u001b[0m\u001b[1;36m1\u001b[0m\u001b[1;33m]\u001b[0m\u001b[1;33m=\u001b[0m\u001b[1;34m'Holiday'\u001b[0m \u001b[1;31m#can not update a tuple in a dictionary\u001b[0m\u001b[1;33m\u001b[0m\u001b[1;33m\u001b[0m\u001b[0m\n\u001b[0m",
      "\u001b[1;31mTypeError\u001b[0m: 'tuple' object does not support item assignment"
     ]
    }
   ],
   "source": [
    "#update Sunday to Holiday\n",
    "day[5][1]='Holiday' #can not update a tuple in a dictionary"
   ]
  },
  {
   "cell_type": "code",
   "execution_count": 29,
   "id": "560dd19f",
   "metadata": {},
   "outputs": [],
   "source": [
    "#update Thursday to Holiday\n",
    "day[4][0]='Holiday'"
   ]
  },
  {
   "cell_type": "code",
   "execution_count": 30,
   "id": "7f07b100",
   "metadata": {},
   "outputs": [],
   "source": [
    "#update Monday to Holiday\n",
    "day[1]='Holiday'"
   ]
  },
  {
   "cell_type": "code",
   "execution_count": 31,
   "id": "e30ad316",
   "metadata": {},
   "outputs": [
    {
     "ename": "KeyError",
     "evalue": "'Louisiana'",
     "output_type": "error",
     "traceback": [
      "\u001b[1;31m---------------------------------------------------------------------------\u001b[0m",
      "\u001b[1;31mKeyError\u001b[0m                                  Traceback (most recent call last)",
      "\u001b[1;32m~\\AppData\\Local\\Temp\\ipykernel_26456\\2583610805.py\u001b[0m in \u001b[0;36m<module>\u001b[1;34m\u001b[0m\n\u001b[1;32m----> 1\u001b[1;33m \u001b[0mdata\u001b[0m\u001b[1;33m[\u001b[0m\u001b[1;34m'Louisiana'\u001b[0m\u001b[1;33m]\u001b[0m\u001b[1;33m\u001b[0m\u001b[1;33m\u001b[0m\u001b[0m\n\u001b[0m",
      "\u001b[1;31mKeyError\u001b[0m: 'Louisiana'"
     ]
    }
   ],
   "source": [
    "data['Louisiana']"
   ]
  },
  {
   "cell_type": "markdown",
   "id": "f7bb990f",
   "metadata": {},
   "source": [
    "### `get` and `update` methods #can only update values, key is unique and immutable: value is mutable"
   ]
  },
  {
   "cell_type": "code",
   "execution_count": 32,
   "id": "071c6f12",
   "metadata": {},
   "outputs": [
    {
     "data": {
      "text/plain": [
       "'Pheonix'"
      ]
     },
     "execution_count": 32,
     "metadata": {},
     "output_type": "execute_result"
    }
   ],
   "source": [
    "data.get('Arizona')"
   ]
  },
  {
   "cell_type": "code",
   "execution_count": 33,
   "id": "10cd3add",
   "metadata": {},
   "outputs": [],
   "source": [
    "data.get('Louisiana') #.get does not generate an error, this is how it is different from get"
   ]
  },
  {
   "cell_type": "code",
   "execution_count": 37,
   "id": "afdf81cb",
   "metadata": {},
   "outputs": [
    {
     "name": "stdout",
     "output_type": "stream",
     "text": [
      "{'Alabama': 'Montgomery', 'Arizona': 'Pheonix', 'Georgia': 'Atlanta', 'Kentucky': 'Louisville', 'Ohio': 'Salem', 'Louisiana': 'Baton Rouge'}\n"
     ]
    }
   ],
   "source": [
    "#update an old value to a  new value and add a new key value pair \n",
    "print(data)\n",
    "data.update({'Kentucky':'Louisville',    'Louisiana':'Baton Rouge'})"
   ]
  },
  {
   "cell_type": "code",
   "execution_count": 38,
   "id": "c99acf1a",
   "metadata": {},
   "outputs": [
    {
     "name": "stdout",
     "output_type": "stream",
     "text": [
      "{'Alabama': 'Montgomery', 'Arizona': 'Pheonix', 'Georgia': 'Atlanta', 'Kentucky': 'Louisville', 'Ohio': 'Salem', 'Louisiana': 'Baton Rouge'}\n"
     ]
    }
   ],
   "source": [
    "print(data) #update method adds to the end of the dictionary"
   ]
  },
  {
   "cell_type": "code",
   "execution_count": 40,
   "id": "c97c7fd4",
   "metadata": {},
   "outputs": [
    {
     "name": "stdout",
     "output_type": "stream",
     "text": [
      "{'Alabama': 'Montgomery', 'Arizona': 'Pheonix', 'Georgia': 'Atlanta', 'Kentucky': 'Louisville', 'Ohio': 'Salem', 'Louisiana': 'Baton Rouge', 'alabama': 'Montgomery'}\n"
     ]
    }
   ],
   "source": [
    "data.update({'alabama':'Montgomery'}) #only way to change a key is to add one\n",
    "print(data)"
   ]
  },
  {
   "cell_type": "markdown",
   "id": "18536626",
   "metadata": {},
   "source": [
    "### Delete dictionary items using `del` and `pop`"
   ]
  },
  {
   "cell_type": "code",
   "execution_count": 41,
   "id": "ebc3b904",
   "metadata": {},
   "outputs": [],
   "source": [
    "data\n",
    "del data['Alabama']"
   ]
  },
  {
   "cell_type": "code",
   "execution_count": 42,
   "id": "fc64b2ed",
   "metadata": {},
   "outputs": [
    {
     "data": {
      "text/plain": [
       "{'Arizona': 'Pheonix',\n",
       " 'Georgia': 'Atlanta',\n",
       " 'Kentucky': 'Louisville',\n",
       " 'Ohio': 'Salem',\n",
       " 'Louisiana': 'Baton Rouge',\n",
       " 'alabama': 'Montgomery'}"
      ]
     },
     "execution_count": 42,
     "metadata": {},
     "output_type": "execute_result"
    }
   ],
   "source": [
    "data"
   ]
  },
  {
   "cell_type": "code",
   "execution_count": 43,
   "id": "e3993e4c",
   "metadata": {},
   "outputs": [
    {
     "data": {
      "text/plain": [
       "{'Arizona': 'Pheonix',\n",
       " 'Georgia': 'Atlanta',\n",
       " 'Kentucky': 'Louisville',\n",
       " 'Louisiana': 'Baton Rouge',\n",
       " 'alabama': 'Montgomery'}"
      ]
     },
     "execution_count": 43,
     "metadata": {},
     "output_type": "execute_result"
    }
   ],
   "source": [
    "del data['Ohio']\n",
    "data"
   ]
  },
  {
   "cell_type": "code",
   "execution_count": 44,
   "id": "36a565ff",
   "metadata": {},
   "outputs": [
    {
     "name": "stdout",
     "output_type": "stream",
     "text": [
      "Deleted Capital: Pheonix\n"
     ]
    }
   ],
   "source": [
    "deleted_state=data.pop('Arizona')\n",
    "print('Deleted Capital:',deleted_state)"
   ]
  },
  {
   "cell_type": "code",
   "execution_count": 45,
   "id": "f0255117",
   "metadata": {},
   "outputs": [
    {
     "data": {
      "text/plain": [
       "{'Georgia': 'Atlanta',\n",
       " 'Kentucky': 'Louisville',\n",
       " 'Louisiana': 'Baton Rouge',\n",
       " 'alabama': 'Montgomery'}"
      ]
     },
     "execution_count": 45,
     "metadata": {},
     "output_type": "execute_result"
    }
   ],
   "source": [
    "data"
   ]
  },
  {
   "cell_type": "code",
   "execution_count": 47,
   "id": "c99aadc9",
   "metadata": {},
   "outputs": [
    {
     "name": "stdout",
     "output_type": "stream",
     "text": [
      "Deleted Capital: Montgomery\n"
     ]
    },
    {
     "data": {
      "text/plain": [
       "{'Georgia': 'Atlanta', 'Kentucky': 'Louisville', 'Louisiana': 'Baton Rouge'}"
      ]
     },
     "execution_count": 47,
     "metadata": {},
     "output_type": "execute_result"
    }
   ],
   "source": [
    "#delete Montgomery using pop\n",
    "deleted_capital=data.pop('alabama')\n",
    "print('Deleted Capital:',deleted_capital)\n",
    "data"
   ]
  },
  {
   "cell_type": "code",
   "execution_count": 48,
   "id": "bfa47bf0",
   "metadata": {},
   "outputs": [
    {
     "ename": "NameError",
     "evalue": "name 'data' is not defined",
     "output_type": "error",
     "traceback": [
      "\u001b[1;31m---------------------------------------------------------------------------\u001b[0m",
      "\u001b[1;31mNameError\u001b[0m                                 Traceback (most recent call last)",
      "\u001b[1;32m~\\AppData\\Local\\Temp\\ipykernel_26456\\752909771.py\u001b[0m in \u001b[0;36m<module>\u001b[1;34m\u001b[0m\n\u001b[0;32m      1\u001b[0m \u001b[1;31m#delete all three\u001b[0m\u001b[1;33m\u001b[0m\u001b[1;33m\u001b[0m\u001b[0m\n\u001b[0;32m      2\u001b[0m \u001b[1;32mdel\u001b[0m \u001b[0mdata\u001b[0m\u001b[1;33m\u001b[0m\u001b[1;33m\u001b[0m\u001b[0m\n\u001b[1;32m----> 3\u001b[1;33m \u001b[0mdata\u001b[0m\u001b[1;33m\u001b[0m\u001b[1;33m\u001b[0m\u001b[0m\n\u001b[0m",
      "\u001b[1;31mNameError\u001b[0m: name 'data' is not defined"
     ]
    }
   ],
   "source": [
    "#delete all three \n",
    "del data #the entire dictionary was deleted, if you want to keep the dictionary, you will have to pop one value at a time\n",
    "data"
   ]
  },
  {
   "cell_type": "markdown",
   "id": "610aae76",
   "metadata": {},
   "source": [
    "### Number of elements in the dictionary and extracting `keys()`, `values()`, `items()`"
   ]
  },
  {
   "cell_type": "code",
   "execution_count": 50,
   "id": "f13bd3ba",
   "metadata": {},
   "outputs": [],
   "source": [
    "data={'Alabama':'Montgomery',\n",
    "      'Arizona':'Pheonix',\n",
    "      'Georgia':'Atlanta',\n",
    "      'Kentucky':'Frankfort',\n",
    "      'Ohio':'Salem'}"
   ]
  },
  {
   "cell_type": "code",
   "execution_count": 52,
   "id": "1d31365f",
   "metadata": {},
   "outputs": [
    {
     "data": {
      "text/plain": [
       "5"
      ]
     },
     "execution_count": 52,
     "metadata": {},
     "output_type": "execute_result"
    }
   ],
   "source": [
    "#number of elements in the dictionary\n",
    "len(data)"
   ]
  },
  {
   "cell_type": "code",
   "execution_count": 54,
   "id": "0db183c4",
   "metadata": {},
   "outputs": [
    {
     "name": "stdout",
     "output_type": "stream",
     "text": [
      "dict_keys(['Alabama', 'Arizona', 'Georgia', 'Kentucky', 'Ohio'])\n"
     ]
    }
   ],
   "source": [
    "#extracting keys\n",
    "print(data.keys())"
   ]
  },
  {
   "cell_type": "code",
   "execution_count": 55,
   "id": "a1c19204",
   "metadata": {},
   "outputs": [
    {
     "name": "stdout",
     "output_type": "stream",
     "text": [
      "dict_values(['Montgomery', 'Pheonix', 'Atlanta', 'Frankfort', 'Salem'])\n"
     ]
    }
   ],
   "source": [
    "#extract value\n",
    "print(data.values())"
   ]
  },
  {
   "cell_type": "code",
   "execution_count": 57,
   "id": "0f6a71b5",
   "metadata": {},
   "outputs": [
    {
     "name": "stdout",
     "output_type": "stream",
     "text": [
      "dict_items([('Alabama', 'Montgomery'), ('Arizona', 'Pheonix'), ('Georgia', 'Atlanta'), ('Kentucky', 'Frankfort'), ('Ohio', 'Salem')])\n"
     ]
    },
    {
     "data": {
      "text/plain": [
       "dict_items"
      ]
     },
     "execution_count": 57,
     "metadata": {},
     "output_type": "execute_result"
    }
   ],
   "source": [
    "#generate items, key:value pairs \n",
    "print(data.items())\n",
    "type(data.items())"
   ]
  },
  {
   "cell_type": "markdown",
   "id": "ab9e78f2",
   "metadata": {},
   "source": [
    "### Loop through a dictionary"
   ]
  },
  {
   "cell_type": "code",
   "execution_count": 58,
   "id": "941bf04e",
   "metadata": {},
   "outputs": [
    {
     "data": {
      "text/plain": [
       "{'Alabama': 'Montgomery',\n",
       " 'Arizona': 'Pheonix',\n",
       " 'Georgia': 'Atlanta',\n",
       " 'Kentucky': 'Frankfort',\n",
       " 'Ohio': 'Salem'}"
      ]
     },
     "execution_count": 58,
     "metadata": {},
     "output_type": "execute_result"
    }
   ],
   "source": [
    "data"
   ]
  },
  {
   "cell_type": "code",
   "execution_count": 60,
   "id": "fe239e39",
   "metadata": {},
   "outputs": [
    {
     "name": "stdout",
     "output_type": "stream",
     "text": [
      "Alabama\n",
      "Arizona\n",
      "Georgia\n",
      "Kentucky\n",
      "Ohio\n"
     ]
    },
    {
     "data": {
      "text/plain": [
       "str"
      ]
     },
     "execution_count": 60,
     "metadata": {},
     "output_type": "execute_result"
    }
   ],
   "source": [
    "#loop through dictionary keys\n",
    "for i in data.keys(): #to unpack dict items, use a for loop \n",
    "    print(i)\n",
    "type(i)"
   ]
  },
  {
   "cell_type": "code",
   "execution_count": 63,
   "id": "c0746d46",
   "metadata": {},
   "outputs": [
    {
     "name": "stdout",
     "output_type": "stream",
     "text": [
      "The capital is Montgomery\n",
      "The capital is Pheonix\n",
      "The capital is Atlanta\n",
      "The capital is Frankfort\n",
      "The capital is Salem\n"
     ]
    },
    {
     "data": {
      "text/plain": [
       "str"
      ]
     },
     "execution_count": 63,
     "metadata": {},
     "output_type": "execute_result"
    }
   ],
   "source": [
    "#loop through dictionary values\n",
    "for i in data.values():\n",
    "    print('The capital is',i)\n",
    "type(i)\n"
   ]
  },
  {
   "cell_type": "code",
   "execution_count": 64,
   "id": "e07995b1",
   "metadata": {},
   "outputs": [
    {
     "name": "stdout",
     "output_type": "stream",
     "text": [
      "The state and capital pair is ('Alabama', 'Montgomery')\n",
      "The state and capital pair is ('Arizona', 'Pheonix')\n",
      "The state and capital pair is ('Georgia', 'Atlanta')\n",
      "The state and capital pair is ('Kentucky', 'Frankfort')\n",
      "The state and capital pair is ('Ohio', 'Salem')\n"
     ]
    },
    {
     "data": {
      "text/plain": [
       "tuple"
      ]
     },
     "execution_count": 64,
     "metadata": {},
     "output_type": "execute_result"
    }
   ],
   "source": [
    "#loop through the items\n",
    "for i in data.items():\n",
    "    print('The state and capital pair is',i)\n",
    "type(i)"
   ]
  },
  {
   "cell_type": "code",
   "execution_count": 71,
   "id": "02b13488",
   "metadata": {},
   "outputs": [
    {
     "name": "stdout",
     "output_type": "stream",
     "text": [
      "Alabama is the state and Montgomery is the capitol\n",
      "<class 'str'> <class 'str'>\n",
      "Arizona is the state and Pheonix is the capitol\n",
      "<class 'str'> <class 'str'>\n",
      "Georgia is the state and Atlanta is the capitol\n",
      "<class 'str'> <class 'str'>\n",
      "Kentucky is the state and Frankfort is the capitol\n",
      "<class 'str'> <class 'str'>\n",
      "Ohio is the state and Salem is the capitol\n",
      "<class 'str'> <class 'str'>\n"
     ]
    }
   ],
   "source": [
    "#same as top but unpacking tuple to string\n",
    "for i,j in data.items():\n",
    "    print(i,'is the state and',j,'is the capitol')\n",
    "    print(type(i),type(j))"
   ]
  },
  {
   "cell_type": "markdown",
   "id": "82ec7aff",
   "metadata": {},
   "source": [
    "### Convert dictionary values to lists using `list()` function"
   ]
  },
  {
   "cell_type": "code",
   "execution_count": 72,
   "id": "afcede6e",
   "metadata": {},
   "outputs": [
    {
     "data": {
      "text/plain": [
       "{'Alabama': 'Montgomery',\n",
       " 'Arizona': 'Pheonix',\n",
       " 'Georgia': 'Atlanta',\n",
       " 'Kentucky': 'Frankfort',\n",
       " 'Ohio': 'Salem'}"
      ]
     },
     "execution_count": 72,
     "metadata": {},
     "output_type": "execute_result"
    }
   ],
   "source": [
    "data"
   ]
  },
  {
   "cell_type": "code",
   "execution_count": 73,
   "id": "b85f9771",
   "metadata": {},
   "outputs": [
    {
     "data": {
      "text/plain": [
       "['Montgomery', 'Pheonix', 'Atlanta', 'Frankfort', 'Salem']"
      ]
     },
     "execution_count": 73,
     "metadata": {},
     "output_type": "execute_result"
    }
   ],
   "source": [
    "list(data.values())\n"
   ]
  },
  {
   "cell_type": "code",
   "execution_count": 74,
   "id": "1513a1e3",
   "metadata": {},
   "outputs": [
    {
     "data": {
      "text/plain": [
       "('Alabama', 'Arizona', 'Georgia', 'Kentucky', 'Ohio')"
      ]
     },
     "execution_count": 74,
     "metadata": {},
     "output_type": "execute_result"
    }
   ],
   "source": [
    "tuple(data.keys())"
   ]
  },
  {
   "cell_type": "code",
   "execution_count": null,
   "id": "59ec3714",
   "metadata": {},
   "outputs": [],
   "source": []
  },
  {
   "cell_type": "markdown",
   "id": "d13131c6",
   "metadata": {},
   "source": [
    "### A List in a Dictionary"
   ]
  },
  {
   "cell_type": "code",
   "execution_count": null,
   "id": "cd81cd95",
   "metadata": {},
   "outputs": [],
   "source": []
  },
  {
   "cell_type": "code",
   "execution_count": null,
   "id": "1d594da7",
   "metadata": {},
   "outputs": [],
   "source": []
  },
  {
   "cell_type": "code",
   "execution_count": null,
   "id": "e9a96ec4",
   "metadata": {},
   "outputs": [],
   "source": []
  },
  {
   "cell_type": "code",
   "execution_count": null,
   "id": "9796242d",
   "metadata": {},
   "outputs": [],
   "source": []
  },
  {
   "cell_type": "markdown",
   "id": "7543bcaf",
   "metadata": {},
   "source": [
    "###  A Dictionary in a Dictionary"
   ]
  },
  {
   "cell_type": "code",
   "execution_count": null,
   "id": "5716262d",
   "metadata": {},
   "outputs": [],
   "source": []
  },
  {
   "cell_type": "code",
   "execution_count": null,
   "id": "7aaca1c4",
   "metadata": {},
   "outputs": [],
   "source": []
  }
 ],
 "metadata": {
  "kernelspec": {
   "display_name": "Python 3 (ipykernel)",
   "language": "python",
   "name": "python3"
  },
  "language_info": {
   "codemirror_mode": {
    "name": "ipython",
    "version": 3
   },
   "file_extension": ".py",
   "mimetype": "text/x-python",
   "name": "python",
   "nbconvert_exporter": "python",
   "pygments_lexer": "ipython3",
   "version": "3.9.13"
  }
 },
 "nbformat": 4,
 "nbformat_minor": 5
}
